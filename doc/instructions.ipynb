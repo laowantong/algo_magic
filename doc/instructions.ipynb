{
 "cells": [
  {
   "cell_type": "markdown",
   "metadata": {},
   "source": [
    "This set of IPython magic extensions is provided to the first year students enrolled in the algorithmics course at ISFATES (University of Lorraine)."
   ]
  },
  {
   "cell_type": "markdown",
   "metadata": {},
   "source": [
    "# Installation"
   ]
  },
  {
   "cell_type": "markdown",
   "metadata": {},
   "source": [
    "In a Jupyter Notebook cell, simply paste this in a new cell and run it (shift-enter)."
   ]
  },
  {
   "cell_type": "code",
   "execution_count": null,
   "metadata": {
    "collapsed": true
   },
   "outputs": [],
   "source": [
    "!pip install algo_magic"
   ]
  },
  {
   "cell_type": "markdown",
   "metadata": {},
   "source": [
    "Alternatively, under an open terminal:\n",
    "\n",
    "```bash\n",
    "pip install algo_magic\n",
    "```"
   ]
  },
  {
   "cell_type": "markdown",
   "metadata": {},
   "source": [
    "# Loading"
   ]
  },
  {
   "cell_type": "markdown",
   "metadata": {},
   "source": [
    "When you open or reopen a Jupyter notebook, you need to load the set of extensions before using any of them:"
   ]
  },
  {
   "cell_type": "code",
   "execution_count": null,
   "metadata": {
    "collapsed": false
   },
   "outputs": [],
   "source": [
    "%load_ext algo_magic"
   ]
  },
  {
   "cell_type": "markdown",
   "metadata": {},
   "source": [
    "# Usage"
   ]
  },
  {
   "cell_type": "markdown",
   "metadata": {},
   "source": [
    "## `pep8`"
   ]
  },
  {
   "cell_type": "markdown",
   "metadata": {},
   "source": [
    "This extension is a thin wrapper around [YAPF](https://github.com/google/yapf), a general formatter for Python files.\n",
    "Use it to reformat a cell code along the rules of\n",
    "[PEP 8](https://www.python.org/dev/peps/pep-0008/), the official style guide for Python code. For example, evaluating this piece of shit:"
   ]
  },
  {
   "cell_type": "code",
   "execution_count": null,
   "metadata": {
    "collapsed": true
   },
   "outputs": [],
   "source": [
    "%%pep8\n",
    "x = {  'a':37,'b':42,\n",
    "\n",
    "'c':927}\n",
    "\n",
    "y = 'hello ''world'\n",
    "z = 'hello '+'world'\n",
    "a = 'hello {}'.format('world')\n",
    "class foo  (     object  ):\n",
    "  def f    (self   ):\n",
    "    return       37*-+2\n",
    "  def g(self, x,y=42):\n",
    "      return y\n",
    "def f  (   a ) :\n",
    "  return      37+-+a[42-x :  y**3]"
   ]
  },
  {
   "cell_type": "markdown",
   "metadata": {},
   "source": [
    "... will **replace** the cell contents with:"
   ]
  },
  {
   "cell_type": "code",
   "execution_count": 4,
   "metadata": {
    "collapsed": true
   },
   "outputs": [],
   "source": [
    "x = {'a': 37, 'b': 42, 'c': 927}\n",
    "\n",
    "y = 'hello ' 'world'\n",
    "z = 'hello ' + 'world'\n",
    "a = 'hello {}'.format('world')\n",
    "\n",
    "\n",
    "class foo(object):\n",
    "    def f(self):\n",
    "        return 37 * -+2\n",
    "\n",
    "    def g(self, x, y=42):\n",
    "        return y\n",
    "\n",
    "\n",
    "def f(a):\n",
    "    return 37 + -+a[42 - x:y**3]"
   ]
  },
  {
   "cell_type": "markdown",
   "metadata": {},
   "source": [
    "You also can load a reformatted version of any given file, without modifying it on disk:"
   ]
  },
  {
   "cell_type": "code",
   "execution_count": null,
   "metadata": {
    "collapsed": false
   },
   "outputs": [],
   "source": [
    "%pep8 shit.py"
   ]
  },
  {
   "cell_type": "markdown",
   "metadata": {},
   "source": [
    "## `tutor`"
   ]
  },
  {
   "cell_type": "markdown",
   "metadata": {},
   "source": [
    "This extension visualizes the execution of a cell under [Online Python Tutor](http://pythontutor.com), created by [Philip Guo](http://www.pgbovine.net/)."
   ]
  },
  {
   "cell_type": "code",
   "execution_count": 6,
   "metadata": {
    "collapsed": false
   },
   "outputs": [
    {
     "data": {
      "text/html": [
       "<iframe width=\"640\" height=\"400\" frameborder=\"0\" src=\"http://pythontutor.com/iframe-embed.html#code=a+%3D+1%0Ab+%3D+2%0A%0Aaux+%3D+a%0Aa+%3D+b%0Ab+%3D+aux%0A%0Aprint%28a%2C+b%29&py=3\"></iframe>"
      ],
      "text/plain": [
       "<IPython.core.display.HTML object>"
      ]
     },
     "metadata": {},
     "output_type": "display_data"
    }
   ],
   "source": [
    "%%tutor 640x400\n",
    "a = 1\n",
    "b = 2\n",
    "\n",
    "aux = a\n",
    "a = b\n",
    "b = aux\n",
    "\n",
    "print(a, b)"
   ]
  },
  {
   "cell_type": "markdown",
   "metadata": {},
   "source": [
    "Specifying the size of the embedded frame is optional."
   ]
  },
  {
   "cell_type": "markdown",
   "metadata": {
    "collapsed": false
   },
   "source": [
    "With a single `%`, you also can visualize the execution of a given Python file:"
   ]
  },
  {
   "cell_type": "code",
   "execution_count": null,
   "metadata": {
    "collapsed": false,
    "scrolled": true
   },
   "outputs": [],
   "source": [
    "%tutor swap.py"
   ]
  },
  {
   "cell_type": "markdown",
   "metadata": {},
   "source": [
    "## `truth`"
   ]
  },
  {
   "cell_type": "markdown",
   "metadata": {},
   "source": [
    "This extension generates the [truth table](https://en.wikipedia.org/wiki/Truth_table) of a given boolean formula."
   ]
  },
  {
   "cell_type": "code",
   "execution_count": 8,
   "metadata": {
    "collapsed": false
   },
   "outputs": [
    {
     "name": "stdout",
     "output_type": "stream",
     "text": [
      "| a     | b     | a and b |\n",
      "|-------|-------|---------|\n",
      "| False | False | False   |\n",
      "| False | True  | False   |\n",
      "| True  | False | False   |\n",
      "| True  | True  | True    |\n"
     ]
    }
   ],
   "source": [
    "%truth a and b"
   ]
  },
  {
   "cell_type": "markdown",
   "metadata": {},
   "source": [
    "You may hide the result:"
   ]
  },
  {
   "cell_type": "code",
   "execution_count": 9,
   "metadata": {
    "collapsed": false
   },
   "outputs": [
    {
     "name": "stdout",
     "output_type": "stream",
     "text": [
      "| a     | b     | a and b |\n",
      "|-------|-------|---------|\n",
      "| False | False |         |\n",
      "| False | True  |         |\n",
      "| True  | False |         |\n",
      "| True  | True  |         |\n"
     ]
    }
   ],
   "source": [
    "%truth? a and b"
   ]
  },
  {
   "cell_type": "markdown",
   "metadata": {},
   "source": [
    "Replace `False` and `True` by conventional single characters:"
   ]
  },
  {
   "cell_type": "code",
   "execution_count": 10,
   "metadata": {
    "collapsed": false,
    "scrolled": true
   },
   "outputs": [
    {
     "name": "stdout",
     "output_type": "stream",
     "text": [
      "| a | b | a and b |\n",
      "|---|---|---------|\n",
      "| 0 | 0 | 0       |\n",
      "| 0 | 1 | 0       |\n",
      "| 1 | 0 | 0       |\n",
      "| 1 | 1 | 1       |\n"
     ]
    }
   ],
   "source": [
    "%truth01 a and b"
   ]
  },
  {
   "cell_type": "code",
   "execution_count": 11,
   "metadata": {
    "collapsed": false,
    "scrolled": true
   },
   "outputs": [
    {
     "name": "stdout",
     "output_type": "stream",
     "text": [
      "| a | b | a and b |\n",
      "|---|---|---------|\n",
      "| F | F | F       |\n",
      "| F | V | F       |\n",
      "| V | F | F       |\n",
      "| V | V | V       |\n"
     ]
    }
   ],
   "source": [
    "%truthFV a and b"
   ]
  },
  {
   "cell_type": "code",
   "execution_count": 12,
   "metadata": {
    "collapsed": false,
    "scrolled": true
   },
   "outputs": [
    {
     "name": "stdout",
     "output_type": "stream",
     "text": [
      "| a | b | a and b |\n",
      "|---|---|---------|\n",
      "| F | F | F       |\n",
      "| F | T | F       |\n",
      "| T | F | F       |\n",
      "| T | T | T       |\n"
     ]
    }
   ],
   "source": [
    "%truthFT a and b"
   ]
  },
  {
   "cell_type": "markdown",
   "metadata": {},
   "source": [
    "You can easily compare several boolean expressions, given on one or several lines:"
   ]
  },
  {
   "cell_type": "code",
   "execution_count": 13,
   "metadata": {
    "collapsed": false
   },
   "outputs": [
    {
     "name": "stdout",
     "output_type": "stream",
     "text": [
      "| a     | b     | a ^ b | (a and not b) or (not a and b) |\n",
      "|-------|-------|-------|--------------------------------|\n",
      "| False | False | False | False                          |\n",
      "| False | True  | True  | True                           |\n",
      "| True  | False | True  | True                           |\n",
      "| True  | True  | False | False                          |\n"
     ]
    }
   ],
   "source": [
    "%truth a ^ b, (a and not b) or (not a and b)"
   ]
  },
  {
   "cell_type": "code",
   "execution_count": 14,
   "metadata": {
    "collapsed": false,
    "scrolled": false
   },
   "outputs": [
    {
     "name": "stdout",
     "output_type": "stream",
     "text": [
      "| a     | b     | a and b | not(a and b) | not a | not b | not a or not b |\n",
      "|-------|-------|---------|--------------|-------|-------|----------------|\n",
      "| False | False | False   |              | True  | True  |                |\n",
      "| False | True  | False   |              | True  | False |                |\n",
      "| True  | False | False   |              | False | True  |                |\n",
      "| True  | True  | True    |              | False | False |                |\n"
     ]
    }
   ],
   "source": [
    "%truth a and b, ? not(a and b), not a, not b, ? not a or not b"
   ]
  },
  {
   "cell_type": "code",
   "execution_count": 15,
   "metadata": {
    "collapsed": false
   },
   "outputs": [
    {
     "name": "stdout",
     "output_type": "stream",
     "text": [
      "| a     | b     | a and b | not(a and b) | not a | not b | not a or not b |\n",
      "|-------|-------|---------|--------------|-------|-------|----------------|\n",
      "| False | False | False   |              | True  | True  |                |\n",
      "| False | True  | False   |              | True  | False |                |\n",
      "| True  | False | False   |              | False | True  |                |\n",
      "| True  | True  | True    |              | False | False |                |\n"
     ]
    }
   ],
   "source": [
    "%%truth\n",
    "a and b\n",
    "? not(a and b)\n",
    "not a\n",
    "not b\n",
    "? not a or not b"
   ]
  },
  {
   "cell_type": "markdown",
   "metadata": {},
   "source": [
    "Note that the generated tables can be pasted in a Markdown cell in order to appear as:\n",
    "\n",
    "| a     | b     | a and b | not(a and b) | not a | not b | not a or not b |\n",
    "|-------|-------|---------|--------------|-------|-------|----------------|\n",
    "| False | False | False   |              | True  | True  |                |\n",
    "| False | True  | False   |              | True  | False |                |\n",
    "| True  | False | False   |              | False | True  |                |\n",
    "| True  | True  | True    |              | False | False |                |"
   ]
  },
  {
   "cell_type": "markdown",
   "metadata": {},
   "source": [
    "**Limitation.** The boolean variables must consist in one single character."
   ]
  }
 ],
 "metadata": {
  "anaconda-cloud": {},
  "kernelspec": {
   "display_name": "Python [Root]",
   "language": "python",
   "name": "Python [Root]"
  },
  "language_info": {
   "codemirror_mode": {
    "name": "ipython",
    "version": 3
   },
   "file_extension": ".py",
   "mimetype": "text/x-python",
   "name": "python",
   "nbconvert_exporter": "python",
   "pygments_lexer": "ipython3",
   "version": "3.5.2"
  }
 },
 "nbformat": 4,
 "nbformat_minor": 0
}
